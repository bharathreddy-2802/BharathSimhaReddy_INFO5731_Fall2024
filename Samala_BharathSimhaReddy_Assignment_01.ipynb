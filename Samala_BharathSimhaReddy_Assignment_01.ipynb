{
  "cells": [
    {
      "cell_type": "markdown",
      "metadata": {
        "id": "view-in-github",
        "colab_type": "text"
      },
      "source": [
        "<a href=\"https://colab.research.google.com/github/bharathreddy-2802/BharathSimhaReddy_INFO5731_Fall2024/blob/main/Samala_BharathSimhaReddy_Assignment_01.ipynb\" target=\"_parent\"><img src=\"https://colab.research.google.com/assets/colab-badge.svg\" alt=\"Open In Colab\"/></a>"
      ]
    },
    {
      "cell_type": "markdown",
      "metadata": {
        "id": "Ryk8D1Q4Wsrp"
      },
      "source": [
        "# **INFO5731 Assignment One**"
      ]
    },
    {
      "cell_type": "markdown",
      "source": [
        "This assignment includes range of programming tasks and data analysis exercises, aiming to enhance your Python skills and proficiency in string manipulation, numerical computations, and data science. Follow the instructions carefully and design well-structured Python programs to address each question.\n",
        "\n",
        "Late Submission will have a penalty of 10% reduction for each day after the deadline."
      ],
      "metadata": {
        "id": "qcP6re2g5A5r"
      }
    },
    {
      "cell_type": "markdown",
      "metadata": {
        "id": "JkzR8cFAyGik"
      },
      "source": [
        "# Question 1 (10 points).\n",
        "\n",
        "The formula that describes the volume V of a hemisphere with radius r is the following:\n",
        "\n",
        "$ V=\\frac{2}{3}\\ast\\ \\pi\\ast\\ r^3 $\n",
        "\n",
        "Write a program to calculate the value of V when r is in the range of even numbers from 1-20. Output the result in the following format:\n",
        "\n",
        "\tr\tV\n",
        "\t2\t…\n",
        "\t4\t…\n",
        "\t6\t…\n",
        "\t.\n",
        "\t.\n",
        "\t.\n",
        "\t20\t…\n"
      ]
    },
    {
      "cell_type": "code",
      "execution_count": 3,
      "metadata": {
        "id": "jDyTKYs-yGit",
        "colab": {
          "base_uri": "https://localhost:8080/"
        },
        "outputId": "3d36219d-486a-4582-e97a-ad0b87e68e0d"
      },
      "outputs": [
        {
          "output_type": "stream",
          "name": "stdout",
          "text": [
            "r\tV\n",
            "2\t16.76\n",
            "4\t134.04\n",
            "6\t452.39\n",
            "8\t1072.33\n",
            "10\t2094.40\n",
            "12\t3619.11\n",
            "14\t5747.02\n",
            "16\t8578.64\n",
            "18\t12214.51\n",
            "20\t16755.16\n"
          ]
        }
      ],
      "source": [
        "# Your code here\n",
        "import math\n",
        "# creating loop for radius in range from 2 to 20\n",
        "print(\"r\\tV\")\n",
        "for r in range(2,21,2):\n",
        "  V = (2/3) * math.pi * r**3\n",
        "  print(f\"{r}\\t{V:.2f}\")\n"
      ]
    },
    {
      "cell_type": "markdown",
      "metadata": {
        "id": "90_NR8c5XGWc"
      },
      "source": [
        "# Question 2 (20 points)\n",
        "\n",
        "(a) Write a Python program to generate a sequence of 12 random numbers falling within the range of 50 to 150.\n",
        "\n",
        "(b) Arrange the generated numbers in ascending order. Display the sorted list.\n",
        "\n",
        "(c) Extend the program to arrange the numbers in descending order as well. Present the sorted list accordingly.\n",
        "\n",
        "(d) Compute and output the average of the entire group of generated numbers.\n",
        "\n",
        "(e) Enhance the program to calculate and display the average of the first 6 numbers from both the ascending and descending sorted lists."
      ]
    },
    {
      "cell_type": "code",
      "execution_count": 14,
      "metadata": {
        "id": "5QX6bJjGWXY9",
        "colab": {
          "base_uri": "https://localhost:8080/"
        },
        "outputId": "902966af-cf39-4e9d-ac77-eb82760e67d0"
      },
      "outputs": [
        {
          "output_type": "stream",
          "name": "stdout",
          "text": [
            "Generated numbers are: [115, 80, 145, 107, 115, 74, 61, 148, 121, 121, 124, 104]\n",
            "Ascending order of numbers: [61, 74, 80, 104, 107, 115, 115, 121, 121, 124, 145, 148]\n",
            "Descending order of numbers: [148, 145, 124, 121, 121, 115, 115, 107, 104, 80, 74, 61]\n",
            "Average of generated numbers: 109.58333333333333\n",
            "Avg of the first six numbers ascending: 90.16666666666667\n",
            "Avg of the first six numbers descending: 129.0\n"
          ]
        }
      ],
      "source": [
        "# Write code for each of the sub parts with proper comments.\n",
        "#(a) generating 12 random numbers ranging between 50 to 150\n",
        "import random\n",
        "ran_num = [random.randint(50,150) for _ in range(12)]\n",
        "print(\"Generated numbers are:\", ran_num)\n",
        "\n",
        "#(b) arranging the numbers in ascending order\n",
        "ascend = sorted(ran_num)\n",
        "print(\"Ascending order of numbers:\", ascend)\n",
        "\n",
        "# (c) descending order of numbers\n",
        "descend = sorted(ran_num, reverse=True)\n",
        "print(\"Descending order of numbers:\", descend)\n",
        "\n",
        "# (d) Average of random generated numbers\n",
        "avg = sum(ran_num)/ len(ran_num)\n",
        "print(\"Average of generated numbers:\", avg)\n",
        "\n",
        "# (e) average of first 6 numbers of both ascending and descending numbers\n",
        "six_ascend = sum(ascend[:6])/6\n",
        "six_descend = sum(descend[:6])/6\n",
        "print(\"Avg of the first six numbers ascending:\", six_ascend)\n",
        "print(\"Avg of the first six numbers descending:\", six_descend)"
      ]
    },
    {
      "cell_type": "markdown",
      "metadata": {
        "id": "1F_PZdH9Sh49"
      },
      "source": [
        "# Question 3 (20 points).\n",
        "\n",
        "Create a Python program that encompasses various string manipulation task:\n",
        "\n",
        "(a) Prompt the user to input two sentences.\n",
        "\n",
        "(b) Transform each sentence into a list, where each element corresponds to a word in the sentence. For example, if the sentences are \"Hello, how are you doing today?\" and \"This is an example sentence for the program!\"\n",
        "\n",
        "The program should output:\n",
        "['Hello', ',', 'how', 'are', 'you', 'doing', 'today', '?', 'This', 'is', 'an', 'example', 'sentence', 'for', 'the', 'program', '!']\n",
        "\n",
        "(c) Compare the two sentences. Print out a list of words that occur in both sentences.\n",
        "\n",
        "(d) Remove any punctuation from the sentence and print the sanitized sentences. It should remove at least the following characters, but it can remove more: period(“.”), comma (“,”), semicolon (“;”), and colon (“:”).\n",
        "\n",
        "(e) Count the number of vowels in each of the sentences. Print out each vowel and the occurrences  in the each of the two sentences separately, such as:\n",
        "\n",
        "Sentence1: a:2, e:2, i:0, etc.\n",
        "Sentence2: a:1, e:2, i:2, etc.\n",
        "\n",
        "Design a well-structured Python program to execute these tasks efficiently."
      ]
    },
    {
      "cell_type": "code",
      "execution_count": 20,
      "metadata": {
        "id": "Y0oOSlsOS0cq",
        "colab": {
          "base_uri": "https://localhost:8080/"
        },
        "outputId": "ae8a84c3-5498-4777-84ff-c3c1e11762c0"
      },
      "outputs": [
        {
          "output_type": "stream",
          "name": "stdout",
          "text": [
            "Enter sentence one: how r u ?\n",
            "Enter sentence two: fine ! u\n",
            "List generated from sentence one: ['how', 'r', 'u', '?']\n",
            "List generated from sentence two: ['fine', '!', 'u']\n",
            "Common words: ['u']\n",
            "New sentence one: how r u \n",
            "New sentence two: fine  u\n",
            "Vowel count of sentence 1: {'a': 0, 'e': 0, 'i': 0, 'o': 1, 'u': 1}\n",
            "Vowel count of sentence 2: {'a': 0, 'e': 1, 'i': 1, 'o': 0, 'u': 1}\n"
          ]
        }
      ],
      "source": [
        "# Your code here\n",
        "import string\n",
        "# (a) Prompting the user to imput the two sentences\n",
        "sen1 = input(\"Enter sentence one: \")\n",
        "sen2 = input(\"Enter sentence two: \")\n",
        "\n",
        "# (b) Transforming each sentence into a list of words\n",
        "list_sen1 = sen1.split()\n",
        "list_sen2 = sen2.split()\n",
        "print(\"List generated from sentence one:\", list_sen1)\n",
        "print(\"List generated from sentence two:\", list_sen2)\n",
        "\n",
        "# (c) Comparing two lists and print a list of words which occur in both\n",
        "common_words = set(list_sen1).intersection(set(list_sen2))\n",
        "print(\"Common words:\", list(common_words))\n",
        "\n",
        "#(d) remove punctuations\n",
        "def remove_punctuation(sen):\n",
        "  return sen.translate(str.maketrans('', '', string.punctuation))\n",
        "no_punctuation_sen1 = remove_punctuation(sen1)\n",
        "no_punctuation_sen2 = remove_punctuation(sen2)\n",
        "print(\"New sentence one:\", no_punctuation_sen1)\n",
        "print(\"New sentence two:\", no_punctuation_sen2)\n",
        "\n",
        "# (e) Vowel counting\n",
        "def vowels_count(sen):\n",
        "  vowels = \"aeiou\"\n",
        "  count = {v: sen.lower().count(v) for v in vowels}\n",
        "  return count\n",
        "\n",
        "vowels_count1 = vowels_count(sen1)\n",
        "vowels_count2 = vowels_count(sen2)\n",
        "print(\"Vowel count of sentence 1:\", vowels_count1)\n",
        "print(\"Vowel count of sentence 2:\", vowels_count2)\n",
        "\n"
      ]
    },
    {
      "cell_type": "markdown",
      "source": [
        "# Question 4 (20 Points)"
      ],
      "metadata": {
        "id": "OP4-5qxAtInv"
      }
    },
    {
      "cell_type": "markdown",
      "source": [
        "Design and implement a simple command-line calculator program. The program should handle both integers and floating-point numbers.\n",
        "\n",
        "(a) Write program that takes a mathematical expression as input and evaluates it. The program should support addition, subtraction, multiplication, and division.\n",
        "\n",
        "(b) Extend the calculator to handle parentheses in mathematical expressions. Implement the necessary logic to evaluate expressions with nested parentheses.\n",
        "\n",
        "(c) Enhance your calculator to include additional mathematical operations such as exponentiation, square root, and modulus.\n",
        "\n",
        "(d) Implement error handling in the calculator program. Handle cases such as division by zero and invalid input expressions. Provide meaningful error messages.\n",
        "\n",
        "(e) Implement a command to exit the calculator."
      ],
      "metadata": {
        "id": "uzN4_hDptK9U"
      }
    },
    {
      "cell_type": "code",
      "source": [
        "# Your code here\n",
        "import math\n",
        "def eval_exp(expr):\n",
        "  try:\n",
        "    result = eval(expr, {\"__builtins__\": None},\n",
        "     {'sqrt': math.sqrt,\n",
        "      'pow': pow})\n",
        "    return result\n",
        "  except ZeroDivisionError:\n",
        "    return \"Error: It's not possible to divide by zero.\"\n",
        "  except (SyntaxError, NameError):\n",
        "    return \"Error: Invalid mathematical expression.\"\n",
        "  except Exception as e:\n",
        "    return e\n",
        "\n",
        "def calcii():\n",
        "  print(\"Command-line calcii\")\n",
        "  print(\"Supported operations: +, -, *, /,sqrt,%,**\")\n",
        "  print(\"Use parantheses to group the mathematical expression\")\n",
        "  print(\"Type 'exit' to close the calcii\")\n",
        "\n",
        "  while True:\n",
        "    expr = input(\"Enter a mathematical expression to Calcii: \")\n",
        "    if expr.lower() == \"exit\":\n",
        "      print(\"Exiting Calcii\")\n",
        "      break\n",
        "    result = eval_exp(expr)\n",
        "    print(result)\n",
        "\n",
        "if __name__ == \"__main__\":\n",
        "  calcii()\n"
      ],
      "metadata": {
        "id": "8nQnVxjJuYtu",
        "colab": {
          "base_uri": "https://localhost:8080/"
        },
        "outputId": "31d79b3d-3937-4726-e84f-2be08ac8e154"
      },
      "execution_count": 23,
      "outputs": [
        {
          "output_type": "stream",
          "name": "stdout",
          "text": [
            "Command-line calcii\n",
            "Supported operations: +, -, *, /,sqrt,%,**\n",
            "Use parantheses to group the mathematical expression\n",
            "Type 'exit' to close the calcii\n",
            "Enter a mathematical expression to Calcii: 5+6\n",
            "11\n",
            "Enter a mathematical expression to Calcii: (5+6)-(10)\n",
            "1\n",
            "Enter a mathematical expression to Calcii: exit\n",
            "Exiting Calcii\n"
          ]
        }
      ]
    },
    {
      "cell_type": "markdown",
      "metadata": {
        "id": "z3tBE7E-Xn5X"
      },
      "source": [
        "# Question 5 (30 points).\n",
        "\n",
        "In the field of Data Science, data is often formatted as a comma-delimited (CSV) file, where each line in a file corresponds to a field's value. Refer to Chapter 9 (p. 106) for more information on comma-delimited files.\n",
        "\n",
        "To answer this question, you will need to download the file [Assignment1_denton_housing.csv](https://raw.githubusercontent.com/unt-iialab/info5731-spring2022/main/assignments/Assignment1_denton_housing.csv) included with this assignment. The file contains statistics about housing in the city of Denton from 2008 to 2014. Write a program to implement the following questions.\n",
        "\n",
        "(a) (5 pts) Calculate the difference in the number of Occupied Housing Units from year to year and print it. The difference must be calculated for the consecutive years such as 2008-2009, 2009-2010 etc. Finally, print the values in the ascending order.\n",
        "\n",
        "(b) (5 pts) For all the years, calculate the percentage of housing units which are vacant an occupied. Print the results in the following format:\n",
        "\n",
        "Year Vacant Housing Units Occupied Housing Units\n",
        "\n",
        "    2008  30%   70%                          \n",
        "\t2009 ----- -----\n",
        "\t2010 ----- -----\n",
        "    2011 ----- -----\n",
        "\t2012 ----- -----\n",
        "    2013 ----- -----\n",
        "\t2014 ----- -----\n",
        "  \n",
        "  \n",
        "\n",
        "(c) (10 pts) Calculate and print the valued and years in which the highest number of housing units were vacant and occupied. Print the results in the following format:  \n",
        "\n",
        "                              Year\tValue\n",
        "\tVacant Housing Units\t  -----   -----\n",
        "\tOccupied Housing Units\t-----   -----\n",
        "\n",
        "(d) (10 pts) Calculate the harmonic mean of the total housing units and print it out. You can find the information about harmonic mean here: https://ncalculators.com/statistics/harmonic-mean-calculator.htm"
      ]
    },
    {
      "cell_type": "code",
      "execution_count": 48,
      "metadata": {
        "id": "lqGYuHBhcsRH",
        "colab": {
          "base_uri": "https://localhost:8080/"
        },
        "outputId": "c81e3118-a5e2-410f-8334-8cac994df81b"
      },
      "outputs": [
        {
          "output_type": "stream",
          "name": "stdout",
          "text": [
            "Drive already mounted at /content/drive; to attempt to forcibly remount, call drive.mount(\"/content/drive\", force_remount=True).\n",
            "Differences in units Occupied by year to year: \n",
            "2008-2009: -5091\n",
            "2012-2013: -2622\n",
            "2011-2012: -1565\n",
            "2010-2011: -1404\n",
            "2009-2010: 303\n",
            "2007-2008: 795\n",
            "% of housing units vacant and occupied for all years\n",
            "2013 8.801787504176412% 91.19821249582358%\n",
            "2012 6.677600230491346% 93.32239976950866%\n",
            "2011 9.379522229890688% 90.6204777701093%\n",
            "2010 8.142556337081672% 91.85744366291833%\n",
            "2009 9.07111572444872% 90.92888427555128%\n",
            "2008 10.88265281351653% 89.11734718648347%\n",
            "year value\n",
            "vacant house units  2008   4483\n",
            "occupied house units  2013   43673\n",
            "Harmonic mean of all housing units is: 43699.647158354455\n"
          ]
        },
        {
          "output_type": "stream",
          "name": "stderr",
          "text": [
            "<ipython-input-48-e60f44146b9c>:14: SettingWithCopyWarning: \n",
            "A value is trying to be set on a copy of a slice from a DataFrame.\n",
            "Try using .loc[row_indexer,col_indexer] = value instead\n",
            "\n",
            "See the caveats in the documentation: https://pandas.pydata.org/pandas-docs/stable/user_guide/indexing.html#returning-a-view-versus-a-copy\n",
            "  occupied_df[\"Difference\"] = occupied_df['value'].diff()\n"
          ]
        }
      ],
      "source": [
        " # Your code here\n",
        "from google.colab import drive\n",
        "drive.mount('/content/drive')\n",
        "\n",
        "import pandas as pd\n",
        "csv_path = \"/content/drive/MyDrive/INFO 5731/Assignment1_denton_housing.csv\"\n",
        "df = pd.read_csv(csv_path)\n",
        "\n",
        "# filtering rows for occupied and vacant houses\n",
        "occupied_df = df[df['title_field'] == 'Occupied Housing Units']\n",
        "vacant_df = df[df['title_field'] == 'Vacant Housing Units']\n",
        "\n",
        "# (a) Calculating differnces in number of occupied house units from year to year\n",
        "occupied_df[\"Difference\"] = occupied_df['value'].diff()\n",
        "occupied_df = occupied_df.dropna()\n",
        "sorted_order = occupied_df.sort_values(by = 'Difference')\n",
        "print(\"Differences in units Occupied by year to year: \")\n",
        "for index, row in sorted_order.iterrows():\n",
        "  print(f\"{int(row['year'])-1}-{int(row['year'])}: {int(row['Difference'])}\")\n",
        "\n",
        "# b. Calculating the percentage of housing units which are vacant and occupied for all years\n",
        "t_df = pd.merge(occupied_df[['year', 'value']], vacant_df[['year', 'value']], on='year', suffixes=('_Occupied', '_Vacant'))\n",
        "t_df ['all_units'] = t_df ['value_Occupied'] + t_df ['value_Vacant']\n",
        "t_df ['Vacant_%'] = (t_df ['value_Vacant'] / t_df ['all_units']) * 100\n",
        "t_df ['Occupied_%'] = (t_df ['value_Occupied'] / t_df ['all_units']) * 100\n",
        "\n",
        "# Printing results\n",
        "print(\"% of housing units vacant and occupied for all years\")\n",
        "for index, row in t_df.iterrows():\n",
        "    print(f\"{int(row['year'])} {row['Vacant_%']}% {row['Occupied_%']}%\")\n",
        "\n",
        "# c. Calculating and printing years in which highest number of housing units were vacent and occupied\n",
        "\n",
        "Vacant_high =vacant_df.loc[vacant_df['value'].idxmax()]\n",
        "Occupied_high = occupied_df.loc[occupied_df['value'].idxmax()]\n",
        "print(\"year value\")\n",
        "print(f\"vacant house units  {int(Vacant_high['year'])}   {Vacant_high['value']}\")\n",
        "print(f\"occupied house units  {int(Occupied_high['year'])}   {Occupied_high['value']}\")\n",
        "\n",
        "# (d) Calculating the harmonic mean\n",
        "\n",
        "x = len(t_df)\n",
        "har_mean = x/sum(1/ all_units for all_units in t_df['all_units'])\n",
        "print(\"Harmonic mean of all housing units is:\", har_mean)\n"
      ]
    },
    {
      "cell_type": "markdown",
      "source": [
        "# Mandatory Question\n",
        "\n",
        "Provide your thoughts on the assignment. What did you find challenging, and what aspects did you enjoy? Your opinion on the provided time to complete the assignment. Share any suggestions for improvement. Your feedback will be valuable for enhancing the learning experience."
      ],
      "metadata": {
        "id": "q8BFCvWp32cf"
      }
    },
    {
      "cell_type": "code",
      "source": [
        "# Write your response below\n",
        "# The assignment is a bit challenging and tough to complete as connecting the csv file was hard for the fifth question. But thanks to the assignment as I learnt much while completing this assignment."
      ],
      "metadata": {
        "id": "_e557s2w4BpK"
      },
      "execution_count": null,
      "outputs": []
    }
  ],
  "metadata": {
    "colab": {
      "provenance": [],
      "include_colab_link": true
    },
    "kernelspec": {
      "display_name": "Python 3 (ipykernel)",
      "language": "python",
      "name": "python3"
    },
    "language_info": {
      "codemirror_mode": {
        "name": "ipython",
        "version": 3
      },
      "file_extension": ".py",
      "mimetype": "text/x-python",
      "name": "python",
      "nbconvert_exporter": "python",
      "pygments_lexer": "ipython3",
      "version": "3.9.12"
    }
  },
  "nbformat": 4,
  "nbformat_minor": 0
}