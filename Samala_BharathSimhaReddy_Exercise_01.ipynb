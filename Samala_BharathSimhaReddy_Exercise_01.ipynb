{
  "cells": [
    {
      "cell_type": "markdown",
      "metadata": {
        "id": "view-in-github",
        "colab_type": "text"
      },
      "source": [
        "<a href=\"https://colab.research.google.com/github/bharathreddy-2802/BharathSimhaReddy_INFO5731_Fall2024/blob/main/Samala_BharathSimhaReddy_Exercise_01.ipynb\" target=\"_parent\"><img src=\"https://colab.research.google.com/assets/colab-badge.svg\" alt=\"Open In Colab\"/></a>"
      ]
    },
    {
      "cell_type": "markdown",
      "metadata": {
        "id": "DymRJbxDBCnf"
      },
      "source": [
        "# **INFO5731 Exercise 1**\n",
        "\n",
        "This exercise covers a variety of fundamental concepts in Python and is designed to help students improve their coding skills and problem-solving abilities.\n",
        "\n",
        "**Expectations**:\n",
        "*   Students are expected to complete the exercise during lecture period to meet the active participation criteria of the course.\n",
        "*   Use the provided .*ipynb* document to write your code & respond to the questions. Avoid generating a new file.\n",
        "*   Write complete answers and run all the cells before submission.\n",
        "*   Make sure the submission is \"clean\"; *i.e.*, no unnecessary code cells.\n",
        "*   Once finished, allow shared rights from top right corner (*see Canvas for details*).\n",
        "\n",
        "**Total points**: 40\n",
        "\n",
        "**Deadline**: This in-class exercise is due at the end of the day tomorrow, at 11:59 PM.\n",
        "\n",
        "**Late submissions cannot be considered, and no requests will be answered. Manage your time accordingly.**\n"
      ]
    },
    {
      "cell_type": "markdown",
      "source": [
        "## Question 1\n",
        "Write a Python program that  prompts the user to input the length and width of a rectangle, and then calculates and displays the area of the rectangle."
      ],
      "metadata": {
        "id": "FBKvD6O_TY6e"
      }
    },
    {
      "cell_type": "code",
      "source": [
        "# write your answer here\n",
        "# Provide length and width of the rectangle\n",
        "length = float(input(\"Enter the length of the rectangle: \"))\n",
        "width = float(input(\"Enter the width of the rectangle: \"))\n",
        "\n",
        "# Calculate the area of the rectangle\n",
        "area = length * width\n",
        "\n",
        "# Display the area\n",
        "print(\"The area of the rectangle is:\", area)\n"
      ],
      "metadata": {
        "id": "cikVKDXdTbzE",
        "colab": {
          "base_uri": "https://localhost:8080/"
        },
        "outputId": "855e1f64-19d5-45b2-e429-954dd8f64381"
      },
      "execution_count": 24,
      "outputs": [
        {
          "output_type": "stream",
          "name": "stdout",
          "text": [
            "Enter the length of the rectangle: 5\n",
            "Enter the width of the rectangle: 6\n",
            "The area of the rectangle is: 30.0\n"
          ]
        }
      ]
    },
    {
      "cell_type": "markdown",
      "source": [
        "## Question 2\n",
        "Create a Python program that interactively takes two numerical inputs from the user and swaps their values without utilizing an extra variable."
      ],
      "metadata": {
        "id": "E9RqrlwdTfvl"
      }
    },
    {
      "cell_type": "code",
      "source": [
        "# write your answer here\n",
        "# Provide the first and second numbers\n",
        "a = float(input(\"Enter the first number: \"))\n",
        "b = float(input(\"Enter the second number: \"))\n",
        "\n",
        "# Swap the values without using an extra variable\n",
        "a, b = b, a\n",
        "\n",
        "# Display the swapped values\n",
        "print(f\"After swapping, the first number is: {a}\")\n",
        "print(f\"After swapping, the second number is: {b}\")\n"
      ],
      "metadata": {
        "id": "4XvRknixTh1g",
        "colab": {
          "base_uri": "https://localhost:8080/"
        },
        "outputId": "377089ad-fdce-41de-baa9-cea105d32729"
      },
      "execution_count": 25,
      "outputs": [
        {
          "output_type": "stream",
          "name": "stdout",
          "text": [
            "Enter the first number: 5\n",
            "Enter the second number: 4\n",
            "After swapping, the first number is: 4.0\n",
            "After swapping, the second number is: 5.0\n"
          ]
        }
      ]
    },
    {
      "cell_type": "markdown",
      "metadata": {
        "id": "03jb4GZsBkBS"
      },
      "source": [
        "## Question 3\n",
        "Write a Python script to determine and print the length of a user-input string."
      ]
    },
    {
      "cell_type": "code",
      "execution_count": 26,
      "metadata": {
        "id": "YaGLbSHHB8Ej",
        "colab": {
          "base_uri": "https://localhost:8080/"
        },
        "outputId": "95aec5a8-9cc9-42d3-91c3-0c3d7d88c309"
      },
      "outputs": [
        {
          "output_type": "stream",
          "name": "stdout",
          "text": [
            "Enter a string: abcd\n",
            "The length of the string is: 4\n"
          ]
        }
      ],
      "source": [
        "# write your answer here\n",
        "# Enter a string\n",
        "a = input(\"Enter a string: \")\n",
        "\n",
        "length = len(a)\n",
        "\n",
        "print(f\"The length of the string is: {length}\")"
      ]
    },
    {
      "cell_type": "markdown",
      "metadata": {
        "id": "jJDe71iLB616"
      },
      "source": [
        "## Question 4\n",
        "Construct a Python program that counts and displays the occurrences of each character in a given string.\n",
        "\n",
        "Sample String: 'openai.ai',\n",
        "\n",
        "Expected Result: {'a': 2, 'i': 2, '.': 1, 'o': 1, 'p': 1, 'e': 1, 'n': 1}"
      ]
    },
    {
      "cell_type": "code",
      "execution_count": 27,
      "metadata": {
        "id": "MtKskTzbCLaU",
        "colab": {
          "base_uri": "https://localhost:8080/"
        },
        "outputId": "dba4ac80-b466-4800-b5c0-9ec3829e6802"
      },
      "outputs": [
        {
          "output_type": "stream",
          "name": "stdout",
          "text": [
            "{'o': 1, 'p': 1, 'e': 1, 'n': 1, 'a': 2, 'i': 2, '.': 1}\n"
          ]
        }
      ],
      "source": [
        "# write your answer here\n",
        "# Sample string\n",
        "sample_string = 'openai.ai'\n",
        "\n",
        "char_count = {}\n",
        "\n",
        "for char in sample_string:\n",
        "    if char in char_count:\n",
        "        char_count[char] += 1\n",
        "    else:\n",
        "        char_count[char] = 1\n",
        "\n",
        "print(char_count)"
      ]
    },
    {
      "cell_type": "markdown",
      "metadata": {
        "id": "55W9AMdXCSpV"
      },
      "source": [
        "## Question 5\n",
        "Design a Python code to calculate the sum of all elements in a user-provided list."
      ]
    },
    {
      "cell_type": "code",
      "execution_count": 28,
      "metadata": {
        "id": "I57NXsauCec2",
        "colab": {
          "base_uri": "https://localhost:8080/"
        },
        "outputId": "24da038e-2b67-4452-c80f-1d2572d433db"
      },
      "outputs": [
        {
          "output_type": "stream",
          "name": "stdout",
          "text": [
            "Enter a list of numbers separated by spaces: 1 5 3 4 6 \n",
            "The sum of the elements in the list is: 19.0\n"
          ]
        }
      ],
      "source": [
        "# write your answer here\n",
        "# Enter a list of numbers, separated by spaces\n",
        "numbers = input(\"Enter a list of numbers separated by spaces: \")\n",
        "number_list = [float(num) for num in numbers.split()]\n",
        "\n",
        "# Calculate the sum of the list elements\n",
        "total_sum = sum(number_list)\n",
        "\n",
        "# Display the sum\n",
        "print(\"The sum of the elements in the list is:\", total_sum)\n"
      ]
    },
    {
      "cell_type": "markdown",
      "metadata": {
        "id": "4ulBZ6yhCi9F"
      },
      "source": [
        "## Question 6\n",
        "Write a Python program that modifies a given string by replacing all occurrences of its first character with '$', excluding the first character itself.\n",
        "\n",
        "\n",
        "Sample String : 'restart‘\n",
        "Expected Result : 'resta\\$t'"
      ]
    },
    {
      "cell_type": "code",
      "execution_count": 29,
      "metadata": {
        "id": "Fj0XhwbBCw2o",
        "colab": {
          "base_uri": "https://localhost:8080/"
        },
        "outputId": "a742c48a-dd79-4a6c-ea77-6c9f62231cdf"
      },
      "outputs": [
        {
          "output_type": "stream",
          "name": "stdout",
          "text": [
            "resta$t\n"
          ]
        }
      ],
      "source": [
        "# write your answer here\n",
        "# Sample string\n",
        "sample_string = 'restart'\n",
        "\n",
        "# Get the first character of the string\n",
        "first_char = sample_string[0]\n",
        "modified_string = first_char + sample_string[1:].replace(first_char, '$')\n",
        "\n",
        "# Display the result\n",
        "print(modified_string)"
      ]
    },
    {
      "cell_type": "markdown",
      "source": [
        "## Question 7\n",
        "Write a Python program using a while loop to compute the factorial of a user-supplied number."
      ],
      "metadata": {
        "id": "qVXA3q7ET5JI"
      }
    },
    {
      "cell_type": "code",
      "source": [
        "# write your answer here\n",
        "# Enter a number\n",
        "number = int(input(\"Enter a non-negative integer to calculate its factorial: \"))\n",
        "factorial = 1\n",
        "i = 1\n",
        "\n",
        "while i <= number:\n",
        "    factorial *= i\n",
        "    i += 1\n",
        "\n",
        "print(f\"The factorial of {number} is: {factorial}\")\n"
      ],
      "metadata": {
        "id": "Lbt7R6UkT7BA",
        "colab": {
          "base_uri": "https://localhost:8080/"
        },
        "outputId": "000b22ff-9731-4150-ac42-6c31bf7335cf"
      },
      "execution_count": 30,
      "outputs": [
        {
          "output_type": "stream",
          "name": "stdout",
          "text": [
            "Enter a non-negative integer to calculate its factorial: 5\n",
            "The factorial of 5 is: 120\n"
          ]
        }
      ]
    },
    {
      "cell_type": "markdown",
      "source": [
        "## Question 8\n",
        "Create a program that accepts a list of numbers as input and outputs a new list containing only the even numbers."
      ],
      "metadata": {
        "id": "6YfbzXMNT--R"
      }
    },
    {
      "cell_type": "code",
      "source": [
        "# write your answer here\n",
        "user_input = input(\"Enter a list of numbers separated by spaces: \")\n",
        "\n",
        "numbers = [int(num) for num in user_input.split()]\n",
        "\n",
        "even_numbers = [num for num in numbers if num % 2 == 0]\n",
        "\n",
        "print(f\"The list of even numbers is: {even_numbers}\")\n"
      ],
      "metadata": {
        "id": "54q7wMQPUAKu",
        "colab": {
          "base_uri": "https://localhost:8080/"
        },
        "outputId": "fe003ecd-7ffb-49d2-e3c6-cf849399e2eb"
      },
      "execution_count": 31,
      "outputs": [
        {
          "output_type": "stream",
          "name": "stdout",
          "text": [
            "Enter a list of numbers separated by spaces: 1 2 3 4\n",
            "The list of even numbers is: [2, 4]\n"
          ]
        }
      ]
    },
    {
      "cell_type": "markdown",
      "metadata": {
        "id": "_bIP7s1MCzue"
      },
      "source": [
        "## Question 9\n",
        "Design a Python function to check if a number is prime.\n"
      ]
    },
    {
      "cell_type": "code",
      "execution_count": 33,
      "metadata": {
        "id": "w79QilHXD3Mg",
        "colab": {
          "base_uri": "https://localhost:8080/"
        },
        "outputId": "3a0f5401-23cd-47ac-81b9-c57d0911cf19"
      },
      "outputs": [
        {
          "output_type": "stream",
          "name": "stdout",
          "text": [
            "Enter a number to check if it's prime: 7\n",
            "7 is a prime number.\n"
          ]
        }
      ],
      "source": [
        "# write your answer here\n",
        "def is_prime(n):\n",
        "\n",
        "    if n < 2:\n",
        "        return False\n",
        "\n",
        "    i = 2\n",
        "    while i * i <= n:\n",
        "        if n % i == 0:\n",
        "            return False\n",
        "        i += 1\n",
        "\n",
        "    return True\n",
        "\n",
        "number = int(input(\"Enter a number to check if it's prime: \"))\n",
        "if is_prime(number):\n",
        "    print(f\"{number} is a prime number.\")\n",
        "else:\n",
        "    print(f\"{number} is not a prime number.\")\n"
      ]
    },
    {
      "cell_type": "markdown",
      "metadata": {
        "id": "xCa2bK9aD4Q3"
      },
      "source": [
        "## Question 10\n",
        "Write a Python program to concatenate following dictionaries to create a new one.\n",
        "\n",
        "Sample Dictionary : dic1={1:10, 2:20}, dic2={3:30, 4:40}, dic3={5:50,6:60},\n",
        "\n",
        "Expected Result : {1: 10, 2: 20, 3: 30, 4: 40, 5: 50, 6: 60}\n"
      ]
    },
    {
      "cell_type": "code",
      "execution_count": 34,
      "metadata": {
        "id": "_z4aLqAbEET1",
        "colab": {
          "base_uri": "https://localhost:8080/"
        },
        "outputId": "9851306d-deca-454a-952e-1b7f60bc5f52"
      },
      "outputs": [
        {
          "output_type": "stream",
          "name": "stdout",
          "text": [
            "Combined Dictionary: {1: 10, 2: 20, 3: 30, 4: 40, 5: 50, 6: 60}\n"
          ]
        }
      ],
      "source": [
        "# write your answer here\n",
        "# Sample dictionaries\n",
        "dic1 = {1: 10, 2: 20}\n",
        "dic2 = {3: 30, 4: 40}\n",
        "dic3 = {5: 50, 6: 60}\n",
        "\n",
        "# Concatenate the dictionaries\n",
        "combined_dict = {**dic1, **dic2, **dic3}\n",
        "\n",
        "# Display the result\n",
        "print(\"Combined Dictionary:\", combined_dict)"
      ]
    },
    {
      "cell_type": "markdown",
      "source": [
        "## Question 11\n",
        "Design a Python function that takes a tuple of integers as input and returns the largest and smallest elements."
      ],
      "metadata": {
        "id": "bkyZ2xSZUOst"
      }
    },
    {
      "cell_type": "code",
      "source": [
        "# write your answer here\n",
        "def find_min_max(num):\n",
        "    if not num:\n",
        "        raise ValueError(\"The input tuple is empty.\")\n",
        "\n",
        "    # Find the smallest and largest elements\n",
        "    smallest = min(num)\n",
        "    largest = max(num)\n",
        "\n",
        "    return smallest, largest\n",
        "\n",
        "num = (8, 6, 1, 9, -5, 19)\n",
        "smallest, largest = find_min_max(num)\n",
        "print(f\"The smallest element is: {smallest}\")\n",
        "print(f\"The largest element is: {largest}\")\n"
      ],
      "metadata": {
        "id": "3FdLRBKOUQEd",
        "colab": {
          "base_uri": "https://localhost:8080/"
        },
        "outputId": "ba305ab7-b9f7-49f9-c66a-22b8cec90ef2"
      },
      "execution_count": 35,
      "outputs": [
        {
          "output_type": "stream",
          "name": "stdout",
          "text": [
            "The smallest element is: -5\n",
            "The largest element is: 19\n"
          ]
        }
      ]
    },
    {
      "cell_type": "markdown",
      "source": [
        "## Question 12\n",
        "Write a Python program that counts the frequency of each character in a given string and stores it in a dictionary."
      ],
      "metadata": {
        "id": "O0TVi3gKUTpp"
      }
    },
    {
      "cell_type": "code",
      "source": [
        "# write your answer here\n",
        "def count_char_frequency(s):\n",
        "    char_count = {}\n",
        "\n",
        "    for char in s:\n",
        "\n",
        "        if char in char_count:\n",
        "            char_count[char] += 1\n",
        "        else:\n",
        "            char_count[char] = 1\n",
        "\n",
        "    return char_count\n",
        "\n",
        "input_string = input(\"Enter a string: \")\n",
        "frequency_dict = count_char_frequency(input_string)\n",
        "print(\"Character frequency dictionary:\", frequency_dict)\n"
      ],
      "metadata": {
        "id": "lAtfSfZXUU-h",
        "colab": {
          "base_uri": "https://localhost:8080/"
        },
        "outputId": "163e28cd-2f20-488a-cacf-9c2ab5b62256"
      },
      "execution_count": 36,
      "outputs": [
        {
          "output_type": "stream",
          "name": "stdout",
          "text": [
            "Enter a string: ssssaaaacccer\n",
            "Character frequency dictionary: {'s': 4, 'a': 4, 'c': 3, 'e': 1, 'r': 1}\n"
          ]
        }
      ]
    },
    {
      "cell_type": "markdown",
      "metadata": {
        "id": "0v48Vqa7FrQh"
      },
      "source": [
        "## Question 13\n",
        "Implement a Python script to identify duplicate elements in a provided array of integers. Return -1 if there are no duplicates."
      ]
    },
    {
      "cell_type": "code",
      "execution_count": 37,
      "metadata": {
        "id": "7WEmgq-DF2P1",
        "colab": {
          "base_uri": "https://localhost:8080/"
        },
        "outputId": "b632744c-b2dc-486b-b8a8-4daff13f377b"
      },
      "outputs": [
        {
          "output_type": "stream",
          "name": "stdout",
          "text": [
            "Enter a list of integers separated by spaces: 1 2 3 4 5 8 9 4 5 4\n",
            "Duplicates: [4, 5]\n"
          ]
        }
      ],
      "source": [
        "# write your answer here\n",
        "def find_duplicates(arr):\n",
        "\n",
        "    duplicates = []\n",
        "    s = set()\n",
        "\n",
        "    for num in arr:\n",
        "        if num in s:\n",
        "            if num not in duplicates:\n",
        "                duplicates.append(num)\n",
        "        else:\n",
        "            s.add(num)\n",
        "\n",
        "    return duplicates if duplicates else -1\n",
        "\n",
        "arr = list(map(int, input(\"Enter a list of integers separated by spaces: \").split()))\n",
        "\n",
        "result = find_duplicates(arr)\n",
        "print(\"Duplicates:\", result)"
      ]
    },
    {
      "cell_type": "markdown",
      "metadata": {
        "id": "vD5PYLMuGga_"
      },
      "source": [
        "## Question 14\n",
        "Write a Python script to find the common elements between two lists."
      ]
    },
    {
      "cell_type": "code",
      "execution_count": 38,
      "metadata": {
        "id": "t0D5kdJUGjjw",
        "colab": {
          "base_uri": "https://localhost:8080/"
        },
        "outputId": "040bca04-7ece-4135-f122-4a1781209606"
      },
      "outputs": [
        {
          "output_type": "stream",
          "name": "stdout",
          "text": [
            "Enter elements of the first list separated by spaces: 2 3 5 6 7\n",
            "Enter elements of the second list separated by spaces: 3 4 5 1 2\n",
            "Common elements: ['3', '2', '5']\n"
          ]
        }
      ],
      "source": [
        "# write your answer here\n",
        "def find_common_elements(list1, list2):\n",
        "    # Find the intersection of both lists using set operations\n",
        "    common_elements = list(set(list1) & set(list2))\n",
        "    return common_elements\n",
        "\n",
        "# Example usage\n",
        "# Prompt the user to enter elements of the first and second lists\n",
        "list1 = input(\"Enter elements of the first list separated by spaces: \").split()\n",
        "list2 = input(\"Enter elements of the second list separated by spaces: \").split()\n",
        "\n",
        "# Find and display the common elements\n",
        "common = find_common_elements(list1, list2)\n",
        "print(\"Common elements:\", common)\n"
      ]
    },
    {
      "cell_type": "markdown",
      "metadata": {
        "id": "uHkd-y5VhVWC"
      },
      "source": [
        "## Question 15\n",
        "Write a Python program to randomly divide the students in this class into maximum of eight groups for term projects, each group should have at least 4 students but no more than 6 students (including 6).\n",
        "\n",
        "Here is the students list:\n",
        "\n",
        "student_list_spring_2024=[rb0846,\n",
        "ac1964,\n",
        "hc0612,\n",
        "md0912,\n",
        "ad1198,\n",
        "md0894,\n",
        "md0825,\n",
        "vg0598,\n",
        "vg0433,\n",
        "mh1068,\n",
        "yj0173,\n",
        "pk0553,\n",
        "tk0411,\n",
        "srk0204,\n",
        "sk2922,\n",
        "sk2936,\n",
        "mk1302,\n",
        "mk1317,\n",
        "tk0412,\n",
        "vk0656,\n",
        "sm2985,\n",
        "mm2372,\n",
        "un0045,\n",
        "an0892,\n",
        "sn0913,\n",
        "gp0252,\n",
        "ap1484,\n",
        "mr1765,\n",
        "sr1385,\n",
        "sr1335,\n",
        "hs0665,\n",
        "ms2060,\n",
        "gt0217,\n",
        "nt0385,\n",
        "tv0186,\n",
        "sv1394,\n",
        "sv1752,\n",
        "sv1555,\n",
        "sy0594\n",
        "]\n"
      ]
    },
    {
      "cell_type": "code",
      "source": [
        "# write your answer here\n",
        "import random\n",
        "\n",
        "# List of students\n",
        "student_list_spring_2024 = [\n",
        "    \"rb0846\", \"ac1964\", \"hc0612\", \"md0912\", \"ad1198\", \"md0894\", \"md0825\", \"vg0598\",\n",
        "    \"vg0433\", \"mh1068\", \"yj0173\", \"pk0553\", \"tk0411\", \"srk0204\", \"sk2922\", \"sk2936\",\n",
        "    \"mk1302\", \"mk1317\", \"tk0412\", \"vk0656\", \"sm2985\", \"mm2372\", \"un0045\", \"an0892\",\n",
        "    \"sn0913\", \"gp0252\", \"ap1484\", \"mr1765\", \"sr1385\", \"sr1335\", \"hs0665\", \"ms2060\",\n",
        "    \"gt0217\", \"nt0385\", \"tv0186\", \"sv1394\", \"sv1752\", \"sv1555\", \"sy0594\"\n",
        "]\n",
        "\n",
        "random.shuffle(student_list_spring_2024)\n",
        "\n",
        "min_group = 4\n",
        "max_group = 6\n",
        "total_students = len(student_list_spring_2024)\n",
        "max_groups = 8\n",
        "\n",
        "groups = []\n",
        "start_index = 0\n",
        "\n",
        "for i in range(max_groups):\n",
        "    remaining_students = total_students - start_index\n",
        "    remaining_groups = max_groups - i\n",
        "\n",
        "    max_possible_size = min(max_group, remaining_students - (min_group * (remaining_groups - 1)))\n",
        "    group_size = random.randint(min_group, max_possible_size)\n",
        "\n",
        "    groups.append(student_list_spring_2024[start_index:start_index + group_size])\n",
        "    start_index += group_size\n",
        "\n",
        "    if start_index >= total_students:\n",
        "        break\n",
        "\n",
        "for idx, group in enumerate(groups, 1):\n",
        "    print(f\"Group {idx}: {group}\")\n"
      ],
      "metadata": {
        "colab": {
          "base_uri": "https://localhost:8080/"
        },
        "id": "F-GVguTK03Ss",
        "outputId": "0716cd00-d63b-499f-d472-89a6f330396c"
      },
      "execution_count": 39,
      "outputs": [
        {
          "output_type": "stream",
          "name": "stdout",
          "text": [
            "Group 1: ['un0045', 'md0825', 'ap1484', 'tk0412']\n",
            "Group 2: ['sr1385', 'vg0433', 'sk2922', 'sm2985', 'md0912', 'sv1394']\n",
            "Group 3: ['ac1964', 'tv0186', 'vg0598', 'sv1752']\n",
            "Group 4: ['yj0173', 'sv1555', 'an0892', 'gp0252', 'hc0612']\n",
            "Group 5: ['mk1317', 'rb0846', 'mh1068', 'gt0217', 'sk2936']\n",
            "Group 6: ['mr1765', 'tk0411', 'nt0385', 'sr1335', 'vk0656']\n",
            "Group 7: ['hs0665', 'sn0913', 'ms2060', 'srk0204']\n",
            "Group 8: ['ad1198', 'mm2372', 'mk1302', 'sy0594', 'md0894']\n"
          ]
        }
      ]
    },
    {
      "cell_type": "markdown",
      "metadata": {
        "id": "fmZ9vX20Qs3d"
      },
      "source": [
        "## Question 16\n",
        "Create a program that takes a positive integer 'n' as input and prints the count of even numbers from 1 to 'n'. Optimize the loop using the continue statement."
      ]
    },
    {
      "cell_type": "code",
      "execution_count": 40,
      "metadata": {
        "id": "W8Jw6sWMQs3d",
        "colab": {
          "base_uri": "https://localhost:8080/"
        },
        "outputId": "f42296f0-e4e3-4e48-d7cc-294328ef2ef1"
      },
      "outputs": [
        {
          "output_type": "stream",
          "name": "stdout",
          "text": [
            "Enter a positive integer: 6\n",
            "The count of even numbers from 1 to 6 is: 3\n"
          ]
        }
      ],
      "source": [
        "# write your answer here\n",
        "def count_even_numbers(n):\n",
        "    count = 0\n",
        "\n",
        "    for i in range(1, n + 1):\n",
        "        if i % 2 != 0:\n",
        "            continue\n",
        "        count += 1\n",
        "\n",
        "    return count\n",
        "\n",
        "try:\n",
        "\n",
        "    n = int(input(\"Enter a positive integer: \"))\n",
        "    if n <= 0:\n",
        "        raise ValueError(\"The number must be positive.\")\n",
        "\n",
        "\n",
        "    even_count = count_even_numbers(n)\n",
        "    print(f\"The count of even numbers from 1 to {n} is: {even_count}\")\n",
        "\n",
        "except ValueError as e:\n",
        "    print(f\"Invalid input: {e}\")\n",
        "\n",
        "\n"
      ]
    },
    {
      "cell_type": "markdown",
      "metadata": {
        "id": "hvq4APMhQs3d"
      },
      "source": [
        "## Question 17\n",
        "Develop a Python function called 'count_vowels' that takes a string as input and returns the count of vowels (both lowercase and uppercase) present in the string, ignoring spaces and non-alphabetic characters."
      ]
    },
    {
      "cell_type": "code",
      "execution_count": 41,
      "metadata": {
        "id": "ZnoxhSglQs3d",
        "colab": {
          "base_uri": "https://localhost:8080/"
        },
        "outputId": "622a5d78-0b2d-4844-9929-ba98f1ef0b72"
      },
      "outputs": [
        {
          "output_type": "stream",
          "name": "stdout",
          "text": [
            "Enter a string: aeioupl\n",
            "The count of vowels in the string is: 5\n"
          ]
        }
      ],
      "source": [
        "# write your answer here\n",
        "def count_vowels(s):\n",
        "\n",
        "    vowels = {'a', 'e', 'i', 'o', 'u', 'A', 'E', 'I', 'O', 'U'}\n",
        "\n",
        "    vowel_count = 0\n",
        "\n",
        "    for char in s:\n",
        "        if char in vowels:\n",
        "            vowel_count += 1\n",
        "\n",
        "    return vowel_count\n",
        "\n",
        "input_string = input(\"Enter a string: \")\n",
        "vowel_count = count_vowels(input_string)\n",
        "print(f\"The count of vowels in the string is: {vowel_count}\")\n"
      ]
    },
    {
      "cell_type": "markdown",
      "source": [
        "## Question 18\n",
        "Create a custom exception named ValueTooSmallError in Python. Write a program that takes user input for an age, and if the entered age is less than 18, raise the ValueTooSmallError with an appropriate error message."
      ],
      "metadata": {
        "id": "55FWoSJPVVM6"
      }
    },
    {
      "cell_type": "code",
      "source": [
        "# write your answer here\n",
        "class ValueTooSmallError(Exception):\n",
        "    def __init__(self, message=\"Age entered is too small. Age must be at least 18.\"):\n",
        "        self.message = message\n",
        "        super().__init__(self.message)\n",
        "\n",
        "def check_age(age):\n",
        "    if age < 18:\n",
        "        raise ValueTooSmallError()\n",
        "\n",
        "try:\n",
        "    age = int(input(\"Enter your age: \"))\n",
        "\n",
        "    check_age(age)\n",
        "\n",
        "    print(\"Age is valid. You are eligible.\")\n",
        "\n",
        "except ValueTooSmallError as e:\n",
        "    print(e)\n",
        "\n",
        "except ValueError:\n",
        "    print(\"Invalid input. Please enter a valid number for age.\")\n"
      ],
      "metadata": {
        "id": "hwtr1wZmVX5A",
        "colab": {
          "base_uri": "https://localhost:8080/"
        },
        "outputId": "4cf9716d-61ae-45ca-ebb4-b9111f3daadb"
      },
      "execution_count": 42,
      "outputs": [
        {
          "output_type": "stream",
          "name": "stdout",
          "text": [
            "Enter your age: 19\n",
            "Age is valid. You are eligible.\n"
          ]
        }
      ]
    },
    {
      "cell_type": "markdown",
      "source": [
        "## Question 19\n",
        "Develop a script that reverses a given string without using built-in reverse functions."
      ],
      "metadata": {
        "id": "Q9ecagcaVazW"
      }
    },
    {
      "cell_type": "code",
      "source": [
        "# write your answer here\n",
        "def reverse_string(s):\n",
        "    reversed_str = \"\"\n",
        "\n",
        "    for char in s:\n",
        "        reversed_str = char + reversed_str\n",
        "\n",
        "    return reversed_str\n",
        "\n",
        "input_string = input(\"Enter a string to reverse: \")\n",
        "reversed_string = reverse_string(input_string)\n",
        "print(\"Reversed string:\", reversed_string)\n",
        "\n"
      ],
      "metadata": {
        "id": "gycgckoAVZjR",
        "colab": {
          "base_uri": "https://localhost:8080/"
        },
        "outputId": "c4eef258-c4b3-420c-a974-1729611096a4"
      },
      "execution_count": 43,
      "outputs": [
        {
          "output_type": "stream",
          "name": "stdout",
          "text": [
            "Enter a string to reverse: apple\n",
            "Reversed string: elppa\n"
          ]
        }
      ]
    },
    {
      "cell_type": "markdown",
      "source": [
        "## Question 20\n",
        "Implement a Python script to generate a random password of a specified length."
      ],
      "metadata": {
        "id": "ZFG6RibifMLu"
      }
    },
    {
      "cell_type": "code",
      "source": [
        "# write your answer here\n",
        "import random\n",
        "import string\n",
        "\n",
        "def generate_password(length):\n",
        "\n",
        "    if length < 8:\n",
        "        raise ValueError(\"Password length should be at least 8 characters.\")\n",
        "\n",
        "    characters = string.ascii_letters + string.digits + string.punctuation\n",
        "\n",
        "    password = ''.join(random.choice(characters) for _ in range(length))\n",
        "\n",
        "    return password\n",
        "\n",
        "try:\n",
        "    length = int(input(\"Enter the desired length of the password (minimum 8): \"))\n",
        "\n",
        "    password = generate_password(length)\n",
        "    print(f\"Generated password: {password}\")\n",
        "\n",
        "except ValueError as e:\n",
        "    print(f\"Invalid input: {e}\")\n"
      ],
      "metadata": {
        "id": "BFVrkEi9fNiD",
        "colab": {
          "base_uri": "https://localhost:8080/"
        },
        "outputId": "faa03c9f-5823-43f4-ca0a-e9212a7c5998"
      },
      "execution_count": 45,
      "outputs": [
        {
          "output_type": "stream",
          "name": "stdout",
          "text": [
            "Enter the desired length of the password (minimum 8): 8\n",
            "Generated password: %$ALA5<9\n"
          ]
        }
      ]
    },
    {
      "cell_type": "markdown",
      "source": [
        "# Try these questions"
      ],
      "metadata": {
        "id": "6SmvS7nSfbj8"
      }
    },
    {
      "cell_type": "markdown",
      "source": [
        "(21) Define a base class called 'Vehicle' with attributes make and model. Create a derived class Car that inherits from Vehicle and has an additional attribute 'num_doors'. Demonstrate an example of creating an instance of the 'Car' class and accessing its attributes."
      ],
      "metadata": {
        "id": "cboAr5pEWUf5"
      }
    },
    {
      "cell_type": "code",
      "source": [
        "# write your answer here\n",
        "class Vehicle:\n",
        "    def __init__(self, make, model):\n",
        "        self.make = make\n",
        "        self.model = model\n",
        "\n",
        "class Car(Vehicle):\n",
        "    def __init__(self, make, model, num_doors):\n",
        "\n",
        "        super().__init__(make, model)\n",
        "\n",
        "        self.num_doors = num_doors\n",
        "\n",
        "my_car = Car(\"Honda\", \"Civic\", 4)\n",
        "\n",
        "print(f\"Make: {my_car.make}\")\n",
        "print(f\"Model: {my_car.model}\")\n",
        "print(f\"Number of Doors: {my_car.num_doors}\")\n"
      ],
      "metadata": {
        "id": "phs9gciMWWAW",
        "colab": {
          "base_uri": "https://localhost:8080/"
        },
        "outputId": "e29bf8b2-1ba9-4400-b821-dd527819f2e9"
      },
      "execution_count": 46,
      "outputs": [
        {
          "output_type": "stream",
          "name": "stdout",
          "text": [
            "Make: Honda\n",
            "Model: Civic\n",
            "Number of Doors: 4\n"
          ]
        }
      ]
    },
    {
      "cell_type": "markdown",
      "source": [
        "(22) Create a class called 'Shape' with a method calculate_area(). Implement two derived classes 'Circle' and 'Rectangle' that inherit from Shape and override the calculate_area() method. Demonstrate polymorphism by creating instances of both derived classes and calling the calculate_area() method."
      ],
      "metadata": {
        "id": "J8HHefNtePwd"
      }
    },
    {
      "cell_type": "code",
      "source": [
        "# write your answer here\n",
        "import math\n",
        "\n",
        "# Base class\n",
        "class Shape:\n",
        "    def calculate_area(self):\n",
        "        raise NotImplementedError(\"Subclasses must implement this method\")\n",
        "\n",
        "# Derived class Circle\n",
        "class Circle(Shape):\n",
        "    def __init__(self, r):\n",
        "        self.radius = r\n",
        "\n",
        "    def calculate_area(self):\n",
        "        return math.pi * self.radius ** 2\n",
        "\n",
        "# Derived class Rectangle\n",
        "class Rectangle(Shape):\n",
        "    def __init__(self, w, h):\n",
        "        self.width = w\n",
        "        self.height = h\n",
        "\n",
        "    def calculate_area(self):\n",
        "        return self.width * self.height\n",
        "\n",
        "# Create instances of Circle and Rectangle\n",
        "circle = Circle(r=5)\n",
        "rectangle = Rectangle(w=4, h=6)\n",
        "\n",
        "# Print the area of each shape\n",
        "print(\"Circle area:\", circle.calculate_area())\n",
        "print(\"Rectangle area:\", rectangle.calculate_area())\n"
      ],
      "metadata": {
        "id": "btnMmUZDeRhS",
        "colab": {
          "base_uri": "https://localhost:8080/"
        },
        "outputId": "8690706a-9faf-4bc1-ef22-9b8d53e0d5c7"
      },
      "execution_count": 47,
      "outputs": [
        {
          "output_type": "stream",
          "name": "stdout",
          "text": [
            "Circle area: 78.53981633974483\n",
            "Rectangle area: 24\n"
          ]
        }
      ]
    },
    {
      "cell_type": "markdown",
      "source": [
        "(23) Write a Python program that prompts the user to enter two numbers and perform a division operation. Handle exceptions for both zero division and invalid input (non-numeric input). Display appropriate error messages for each type of exception and ensure the program does not crash due to these errors."
      ],
      "metadata": {
        "id": "z0oqEAlTeMUS"
      }
    },
    {
      "cell_type": "code",
      "source": [
        "# write your answer here"
      ],
      "metadata": {
        "id": "yjdc1zM1eMAs"
      },
      "execution_count": null,
      "outputs": []
    },
    {
      "cell_type": "markdown",
      "source": [
        "# Mandatory Question"
      ],
      "metadata": {
        "id": "sZOhks1dXWEe"
      }
    },
    {
      "cell_type": "markdown",
      "source": [
        "**Important:**\n",
        "Reflecting on the first three lectures and the exercises you've completed, please provide feedback on your learning experience. Share your thoughts on whether the material covered was clear, the exercises were helpful, and if you feel more confident in applying Python programming concepts. Additionally, mention any specific areas where you would like more clarification or topics you would like to explore further in future lectures. Your feedback is valuable in shaping the course for an effective learning journey."
      ],
      "metadata": {
        "id": "eqmHVEwaWhbV"
      }
    },
    {
      "cell_type": "code",
      "source": [
        "'''\n",
        "The class work was good and helpful to complete the in class activities. The classes were clear to understand the concepts.\n",
        "'''"
      ],
      "metadata": {
        "id": "akAVJn9YBTQT"
      },
      "execution_count": null,
      "outputs": []
    }
  ],
  "metadata": {
    "colab": {
      "provenance": [],
      "toc_visible": true,
      "include_colab_link": true
    },
    "kernelspec": {
      "display_name": "Python 3 (ipykernel)",
      "language": "python",
      "name": "python3"
    },
    "language_info": {
      "codemirror_mode": {
        "name": "ipython",
        "version": 3
      },
      "file_extension": ".py",
      "mimetype": "text/x-python",
      "name": "python",
      "nbconvert_exporter": "python",
      "pygments_lexer": "ipython3",
      "version": "3.9.12"
    }
  },
  "nbformat": 4,
  "nbformat_minor": 0
}