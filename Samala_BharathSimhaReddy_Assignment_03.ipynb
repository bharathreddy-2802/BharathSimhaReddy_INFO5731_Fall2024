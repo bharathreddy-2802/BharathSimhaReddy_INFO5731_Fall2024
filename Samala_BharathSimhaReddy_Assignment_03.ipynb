{
  "nbformat": 4,
  "nbformat_minor": 0,
  "metadata": {
    "colab": {
      "provenance": [],
      "include_colab_link": true
    },
    "kernelspec": {
      "name": "python3",
      "display_name": "Python 3"
    },
    "language_info": {
      "name": "python"
    }
  },
  "cells": [
    {
      "cell_type": "markdown",
      "metadata": {
        "id": "view-in-github",
        "colab_type": "text"
      },
      "source": [
        "<a href=\"https://colab.research.google.com/github/bharathreddy-2802/BharathSimhaReddy_INFO5731_Fall2024/blob/main/Samala_BharathSimhaReddy_Assignment_03.ipynb\" target=\"_parent\"><img src=\"https://colab.research.google.com/assets/colab-badge.svg\" alt=\"Open In Colab\"/></a>"
      ]
    },
    {
      "cell_type": "markdown",
      "source": [
        "\n",
        "# **INFO5731 Assignment 3**\n",
        "\n"
      ],
      "metadata": {
        "id": "nbl6CodSf1cB"
      }
    },
    {
      "cell_type": "markdown",
      "source": [
        "## Question 1 (30 points)\n",
        "\n",
        "#**Understand N-gram**\n",
        "\n",
        "*Write a python program to conduct N-gram analysis based on the dataset in your assignment two. You need to write codes from scratch instead of using any pre-existing libraries to do so:*\n",
        "\n",
        "*(1) Count the frequency of all the N-grams (N=3).\n",
        "\n",
        "*(2) Calculate the probabilities for all the bigrams in the dataset by using the fomular count(w2 w1) / count(w2). For example, count(really like) / count(really) = 1 / 3 = 0.33.*\n",
        "\n",
        "*(3) Extract all the noun phrases and calculate the relative probabilities of each review in terms of other reviews (abstracts, or tweets) by using the fomular frequency (noun phrase) / max frequency (noun phrase) on the whole dataset. Print out the result in a table with column name the all the noun phrases and row name as all the 100 reviews (abstracts, or tweets).*\n"
      ],
      "metadata": {
        "id": "RMQ-ZKNygil5"
      }
    },
    {
      "cell_type": "code",
      "source": [
        "from collections import defaultdict\n",
        "import re\n",
        "\n",
        "with open('/content/sample_data/dataset-analysis.txt', 'r') as file:\n",
        "    data = file.readlines()\n",
        "\n",
        "reviews = []\n",
        "for line in data:\n",
        "    match = re.search(r'\\[(.*?)\\]', line)\n",
        "    if match:\n",
        "        reviews.append(match.group(1))\n",
        "\n",
        "for review in reviews[:5]:\n",
        "    print(review)\n",
        "\n",
        "\n",
        "# Trigram Frequency Count\n",
        "\n",
        "def trigram_frequency(reviews):\n",
        "    trigram_counts = defaultdict(int)\n",
        "    for review in reviews:\n",
        "        words = review.split()\n",
        "        for i in range(len(words) - 2):\n",
        "            trigram = (words[i], words[i+1], words[i+2])\n",
        "            trigram_counts[trigram] += 1\n",
        "    return trigram_counts\n",
        "from collections import defaultdict\n",
        "\n",
        "def trigram_frequency(reviews):\n",
        "    trigram_counts = defaultdict(int)\n",
        "    for review in reviews:\n",
        "        words = review.split()\n",
        "        for i in range(len(words) - 2):\n",
        "            trigram = (words[i], words[i+1], words[i+2])\n",
        "            trigram_counts[trigram] += 1\n",
        "    return trigram_counts\n",
        "\n",
        "reviews = [\"this is a test review\", \"this is another test\"]\n",
        "\n",
        "trigram_counts = trigram_frequency(reviews)\n",
        "\n",
        "for trigram, count in trigram_counts.items():\n",
        "    print(f\"{trigram}: {count}\")\n",
        "\n",
        "trigram_counts = trigram_frequency(reviews)\n",
        "print(trigram_counts)\n",
        "\n",
        "\n",
        "#Bigram Probability Calculation\n",
        "\n",
        "def bigram_probability(reviews):\n",
        "    bigram_counts = defaultdict(int)\n",
        "    unigram_counts = defaultdict(int)\n",
        "\n",
        "    for review in reviews:\n",
        "        words = review.split()\n",
        "        for i in range(len(words) - 1):\n",
        "            bigram = (words[i], words[i+1])\n",
        "            bigram_counts[bigram] += 1\n",
        "            unigram_counts[words[i]] += 1\n",
        "        unigram_counts[words[-1]] += 1\n",
        "\n",
        "    bigram_probs = {}\n",
        "    for bigram in bigram_counts:\n",
        "        bigram_probs[bigram] = bigram_counts[bigram] / unigram_counts[bigram[0]]\n",
        "\n",
        "    return bigram_probs\n",
        "\n",
        "bigram_probs = bigram_probability(reviews)\n",
        "print(bigram_probs)\n",
        "\n",
        "# Noun Phrase Probability Table\n",
        "\n",
        "import pandas as pd\n",
        "from collections import Counter\n",
        "\n",
        "def extract_noun_phrases(text):\n",
        "    phrases = re.findall(r'\\b\\w+\\b', text)\n",
        "    return phrases\n",
        "\n",
        "noun_phrase_counts = Counter()\n",
        "for review in reviews:\n",
        "    noun_phrases = extract_noun_phrases(review)\n",
        "    noun_phrase_counts.update(noun_phrases)\n",
        "\n",
        "max_freq = max(noun_phrase_counts.values())\n",
        "relative_probs = {phrase: freq / max_freq for phrase, freq in noun_phrase_counts.items()}\n",
        "\n",
        "df = pd.DataFrame([relative_probs])\n",
        "print(df)\n",
        "\n"
      ],
      "metadata": {
        "colab": {
          "base_uri": "https://localhost:8080/"
        },
        "id": "8xqi0gF0g34K",
        "outputId": "fe18c296-1341-4c9b-eb42-5379ab05aa74"
      },
      "execution_count": 2,
      "outputs": [
        {
          "output_type": "stream",
          "name": "stdout",
          "text": [
            "'After reading many bad reviews of cheaper tool sets I decided on this one.', 'I was figuring you get what you pay for.', \"They are good quality and I'm pleased with the purchase.\", \"The orange pentalobe driver is the key piece you can't do without.\", 'I have used it to replace a battery in an iPhone 4s.', 'I followed the directions on Ifixit.', 'I used the flat tip screw driver to pry the battery out from the two sided tape.', 'They include new two sided tape to hold the new battery in.', \"I like this set so much I'm ordering another for my-son-in-law.\", 'I recomend it for someone wanting to replace their own battery in the 4 or 4s.'\n",
            "'This will charge your smartphone fully one time.', \"Then you recharge it and it's ready for the next time.\", \"Even though it's listed as 3000 mAh, there is some energy lost in any transfer, so it might just transfer 2600, which is the size of many smartphone batteries.\", \"It won't do much for most tablets...you'll need one of their larger chargers like this:http://www.amazon.com/Upgraded-12000mAh-Portable-External-Technology/dp/B00CEZBKTO/ref=sr_1_9?ie=UTF8&qid;=1403646060&sr;=8-9&keywords;=anker+chargerI have both and use them when I'll be away from a charger for an extended time.\"\n",
            "'I think this is a great phone.', \"As mentioned, the Danger network is no longer available, therefore some of the features don't work.\", \"But for the low price and the quality of the phone, it's well worth it.\", 'The screen swivels open smoothly.', 'Colors are vibrant.', 'Instructional cd is a great help for some of the trickier features.', 'And T-Mobile is always eager to help.', 'I was able to copy my sim card address book over easily.', 'So until I qualify for a new phone on my t-mobile plan, this phone will do just fine and be fun to use too.My only dissappointment I will mention is the memory card was not included in the packaging.', 'I read that in someone elses review and emailed Amazon before my phone shipped and they confirmed that it would be present.', \"But it wasn't.\", ':( Its mentioned in the advertisement as being part of the package.', 'So be aware of that.', 'Although Amazon has kindly offered to compensate me, I would have just preferred the memory card to be included.Update- Amazon has given me a little bigger refund which allowed me to purchase the memory card seperately.', 'Thank you Amazon!'\n",
            "'This case has several benefits.', 'It dramatically increases iphone 5/5s battery.', 'I tried with a iphone 5.', 'With the mobile phones we are always draining our batteries with so many useful (and not so useful) apps.', 'I use navigation/music/podcasts as top apps.', 'At the end of day I am left with 10-20% battery left if I am lucky.', 'This energen battery comes in handy at these times!It was so easy to put.', 'One big thing to note is it uses the lighting port to hook up and we have a microUSB for charging and syning up the ipohne.', 'This is cool.', 'Please be aware if you are using lot of accessories that need lighting connector, you have to remove the case before using them.', \"I don't and this fits perfectly.\", 'All the buttons are accessible, for the audio portion you need the provided extension cable.', 'Was able to charge, look at LEDs on back and worked exactly as said.', 'Overall I like the protection it provides as well as the great utility from extensible battery.I was provided a sample, but this is my honest and fair review.'\n",
            "'it was a good product but it hurt my eyes so I had to take it off.', 'the mirror is a great idea to keep others from looking at your phone, but for you own eyes, it was horrible.'\n",
            "('this', 'is', 'a'): 1\n",
            "('is', 'a', 'test'): 1\n",
            "('a', 'test', 'review'): 1\n",
            "('this', 'is', 'another'): 1\n",
            "('is', 'another', 'test'): 1\n",
            "defaultdict(<class 'int'>, {('this', 'is', 'a'): 1, ('is', 'a', 'test'): 1, ('a', 'test', 'review'): 1, ('this', 'is', 'another'): 1, ('is', 'another', 'test'): 1})\n",
            "{('this', 'is'): 1.0, ('is', 'a'): 0.5, ('a', 'test'): 1.0, ('test', 'review'): 0.5, ('is', 'another'): 0.5, ('another', 'test'): 1.0}\n",
            "   this   is    a  test  review  another\n",
            "0   1.0  1.0  0.5   1.0     0.5      0.5\n"
          ]
        }
      ]
    },
    {
      "cell_type": "markdown",
      "source": [
        "## Question 2 (25 points)\n",
        "\n",
        "**Undersand TF-IDF and Document representation**\n",
        "\n",
        "*Starting from the documents (all the reviews, or abstracts, or tweets) collected for assignment two, write a python program:*\n",
        "\n",
        "*(1) To build the documents-terms weights (tf * idf) matrix.*\n",
        "\n",
        "*(2) To rank the documents with respect to query (design a query by yourself, for example, \"An Outstanding movie with a haunting performance and best character development\") by using cosine similarity.*\n",
        "\n",
        "*Note: You need to write codes from scratch instead of using any pre-existing libraries to do so.*\n"
      ],
      "metadata": {
        "id": "PGcMWl6ahL1h"
      }
    },
    {
      "cell_type": "code",
      "source": [
        "# Computing TF-IDF Matrix\n",
        "\n",
        "from math import log\n",
        "\n",
        "def compute_tf_idf(reviews):\n",
        "    tf = defaultdict(lambda: defaultdict(int))\n",
        "    df = defaultdict(int)\n",
        "    tf_idf = defaultdict(dict)\n",
        "\n",
        "    for doc_id, review in enumerate(reviews):\n",
        "        words = review.split()\n",
        "        for word in words:\n",
        "            tf[doc_id][word] += 1\n",
        "        for word in set(words):\n",
        "            df[word] += 1\n",
        "\n",
        "    num_docs = len(reviews)\n",
        "    for doc_id in tf:\n",
        "        for word, count in tf[doc_id].items():\n",
        "            tf_idf[doc_id][word] = (count / len(reviews[doc_id].split())) * log(num_docs / (1 + df[word]))\n",
        "\n",
        "    return tf_idf\n",
        "\n",
        "tf_idf_matrix = compute_tf_idf(reviews)\n",
        "print(tf_idf_matrix)\n",
        "\n",
        "\n",
        "# Document Ranking by Cosine Similarity\n",
        "\n",
        "import numpy as np\n",
        "\n",
        "def vectorize(text, vocabulary):\n",
        "    vector = np.zeros(len(vocabulary))\n",
        "    for i, word in enumerate(vocabulary):\n",
        "        vector[i] = text.count(word)\n",
        "    return vector\n",
        "\n",
        "query = \"An Outstanding phone with good battery life\"\n",
        "vocabulary = list({word for review in reviews for word in review.split()})\n",
        "\n",
        "query_vector = vectorize(query, vocabulary)\n",
        "doc_vectors = [vectorize(review, vocabulary) for review in reviews]\n",
        "\n",
        "def cosine_similarity(query_vector, doc_vector):\n",
        "    return np.dot(query_vector, doc_vector) / (np.linalg.norm(query_vector) * np.linalg.norm(doc_vector))\n",
        "\n",
        "similarities = [(i, cosine_similarity(query_vector, doc_vector)) for i, doc_vector in enumerate(doc_vectors)]\n",
        "ranked_docs = sorted(similarities, key=lambda x: x[1], reverse=True)\n",
        "print(ranked_docs)\n"
      ],
      "metadata": {
        "colab": {
          "base_uri": "https://localhost:8080/"
        },
        "id": "DtIEh0zGheEg",
        "outputId": "68628fc1-3e04-4450-afa0-62f4da0ea249"
      },
      "execution_count": 3,
      "outputs": [
        {
          "output_type": "stream",
          "name": "stdout",
          "text": [
            "defaultdict(<class 'dict'>, {0: {'this': -0.0810930216216329, 'is': -0.0810930216216329, 'a': 0.0, 'test': -0.0810930216216329, 'review': 0.0}, 1: {'this': -0.10136627702704111, 'is': -0.10136627702704111, 'another': 0.0, 'test': -0.10136627702704111}})\n",
            "[(0, 0.35355339059327373), (1, 0.35355339059327373)]\n"
          ]
        }
      ]
    },
    {
      "cell_type": "markdown",
      "source": [
        "## Question 3 (25 points)\n",
        "\n",
        "#**Create your own word embedding model**\n",
        "\n",
        "*Use the data you collected for assignment 2 to build a word embedding model:*\n",
        "\n",
        "*(1) Train a 300-dimension word embedding (it can be word2vec, glove, ulmfit, bert, or others).*\n",
        "\n",
        "*(2) Visualize the word embedding model you created.*\n",
        "\n",
        "*Reference: https://machinelearningmastery.com/develop-word-embeddings-python-gensim/*\n",
        "\n",
        "*Reference: https://jaketae.github.io/study/word2vec/*"
      ],
      "metadata": {
        "id": "CKEDdnrohsxg"
      }
    },
    {
      "cell_type": "code",
      "source": [
        "from gensim.models import Word2Vec\n",
        "import matplotlib.pyplot as plt\n",
        "from sklearn.decomposition import PCA\n",
        "\n",
        "sentences = [review.split() for review in reviews]\n",
        "model = Word2Vec(sentences, vector_size=300, window=5, min_count=1, workers=4)\n",
        "model.train(sentences, total_examples=len(sentences), epochs=10)\n",
        "\n",
        "words = list(model.wv.index_to_key)\n",
        "word_vectors = model.wv[words]\n",
        "pca = PCA(n_components=2)\n",
        "two_dim = pca.fit_transform(word_vectors)\n",
        "\n",
        "plt.figure(figsize=(10, 10))\n",
        "for i, word in enumerate(words[:100]):\n",
        "    plt.scatter(two_dim[i, 0], two_dim[i, 1])\n",
        "    plt.annotate(word, (two_dim[i, 0], two_dim[i, 1]))\n",
        "plt.show()"
      ],
      "metadata": {
        "colab": {
          "base_uri": "https://localhost:8080/",
          "height": 847
        },
        "id": "02lERgDXiPRx",
        "outputId": "d5d7c649-8dbc-4b64-9937-361fa4681a12"
      },
      "execution_count": 4,
      "outputs": [
        {
          "output_type": "stream",
          "name": "stderr",
          "text": [
            "WARNING:gensim.models.word2vec:Effective 'alpha' higher than previous training cycles\n"
          ]
        },
        {
          "output_type": "display_data",
          "data": {
            "text/plain": [
              "<Figure size 1000x1000 with 1 Axes>"
            ],
            "image/png": "[encoded data removed]"
          },
          "metadata": {}
        }
      ]
    },
    {
      "cell_type": "markdown",
      "source": [
        "## Question 4 (20 Points)\n",
        "\n",
        "**Create your own training and evaluation data for sentiment analysis.**\n",
        "\n",
        " **You don't need to write program for this question!**\n",
        "\n",
        " For example, if you collected a movie review or a product review data, then you can do the following steps:\n",
        "\n",
        "*   Read each review (abstract or tweet) you collected in detail, and annotate each review with a sentiment (positive, negative, or neutral).\n",
        "\n",
        "*   Save the annotated dataset into a csv file with three columns (first column: document_id, clean_text, sentiment), upload the csv file to GitHub and submit the file link blew.\n",
        "\n",
        "*   This datset will be used for assignment four: sentiment analysis and text classification.\n"
      ],
      "metadata": {
        "id": "wSldAKoyidln"
      }
    },
    {
      "cell_type": "code",
      "source": [
        "# The GitHub link of your final csv file\n",
        "\n",
        "\n",
        "# Link: https://github.com/bharathreddy-2802/BharathSimhaReddy_INFO5731_Fall2024/blob/main/sentiment_data%20(2).csv\n",
        "\n"
      ],
      "metadata": {
        "id": "ntf3w7Jsirrm"
      },
      "execution_count": 7,
      "outputs": []
    },
    {
      "cell_type": "markdown",
      "source": [
        "# Mandatory Question\n",
        "\n",
        "Provide your thoughts on the assignment. What did you find challenging, and what aspects did you enjoy? Your opinion on the provided time to complete the assignment.\n"
      ],
      "metadata": {
        "id": "tuRs4zfNiwv_"
      }
    },
    {
      "cell_type": "code",
      "source": [
        "'''This assignment was both challenging and informative. The tasks requiring from scratch implementations deepened my understanding of NLP\n",
        "fundamentals. The building of the word embeddings and visualizing them was particularly rewarding. The provided time was adequate with effective time management.'''"
      ],
      "metadata": {
        "colab": {
          "base_uri": "https://localhost:8080/",
          "height": 70
        },
        "id": "yamzQ04IDQhJ",
        "outputId": "1e8de83c-1509-472b-d79a-66be4bb0690c"
      },
      "execution_count": 5,
      "outputs": [
        {
          "output_type": "execute_result",
          "data": {
            "text/plain": [
              "'This assignment was both challenging and informative. The tasks requiring from scratch implementations deepened my understanding of NLP\\nfundamentals. The building of the word embeddings and visualizing them was particularly rewarding. The provided time was adequate with effective time management.'"
            ],
            "application/vnd.google.colaboratory.intrinsic+json": {
              "type": "string"
            }
          },
          "metadata": {},
          "execution_count": 5
        }
      ]
    }
  ]
}